{
 "cells": [
  {
   "cell_type": "code",
   "execution_count": 3,
   "id": "02e62502",
   "metadata": {},
   "outputs": [],
   "source": [
    "import cv2\n",
    "import mediapipe as mp\n",
    "from google.protobuf.json_format import MessageToDict\n",
    "\n",
    "# building the model\n",
    "mpHands = mp.solutions.hands\n",
    "hands = mpHands.Hands(\n",
    "    static_image_mode=False,\n",
    "    min_detection_confidence=0.75,\n",
    "    min_tracking_confidence=0.75,\n",
    "    max_num_hands=2)\n",
    "\n",
    "# Path to the downloaded video file\n",
    "video_path = r\"C:\\Users\\91894\\Downloads\\hand detect.mp4\"\n",
    "\n",
    "# Reading the video file\n",
    "video = cv2.VideoCapture(video_path)\n",
    "\n",
    "while True:\n",
    "    # Read a frame from the video\n",
    "    success, img = video.read()\n",
    "\n",
    "    # If the frame is not successfully read, break the loop\n",
    "    if not success:\n",
    "        break\n",
    "\n",
    "    # Copying the original image\n",
    "    original_img = img.copy()\n",
    "\n",
    "    # Converting the image to RGB for the model\n",
    "    RGB_img = cv2.cvtColor(img, cv2.COLOR_BGR2RGB)\n",
    "\n",
    "    # Passing the image to the model\n",
    "    results = hands.process(RGB_img)\n",
    "\n",
    "    # If there is any result (if any hand is detected)\n",
    "    if results.multi_hand_landmarks:\n",
    "        if len(results.multi_handedness) == 2:  # If two hands exist in the image\n",
    "            cv2.putText(original_img, 'Both Hands', (250, 56), cv2.FONT_HERSHEY_COMPLEX, 0.8, (0, 255, 0), 2)\n",
    "        else:  # If only one hand exists in the image\n",
    "            for i in results.multi_handedness:\n",
    "                label = MessageToDict(i)['classification'][0]['label']\n",
    "                if label == 'Left':\n",
    "                    cv2.putText(original_img, f'{label} Hand', (20, 56), cv2.FONT_HERSHEY_COMPLEX, 0.8, (0, 255, 0), 2)\n",
    "                if label == 'Right':\n",
    "                    cv2.putText(original_img, f'{label} Hand', (460, 56), cv2.FONT_HERSHEY_COMPLEX, 0.8, (0, 255, 0), 2)\n",
    "\n",
    "    # Displaying the image\n",
    "    cv2.imshow('image', original_img)\n",
    "\n",
    "    # Breaking the loop if 'q' is pressed\n",
    "    if cv2.waitKey(1) & 0xff == ord('q'):\n",
    "        break\n",
    "\n",
    "# Release the video capture and close all OpenCV windows\n",
    "video.release()\n",
    "cv2.destroyAllWindows()\n"
   ]
  },
  {
   "cell_type": "code",
   "execution_count": null,
   "id": "02789f75",
   "metadata": {},
   "outputs": [],
   "source": []
  },
  {
   "cell_type": "code",
   "execution_count": null,
   "id": "7ffd56d7",
   "metadata": {},
   "outputs": [],
   "source": []
  }
 ],
 "metadata": {
  "kernelspec": {
   "display_name": "Python 3 (ipykernel)",
   "language": "python",
   "name": "python3"
  },
  "language_info": {
   "codemirror_mode": {
    "name": "ipython",
    "version": 3
   },
   "file_extension": ".py",
   "mimetype": "text/x-python",
   "name": "python",
   "nbconvert_exporter": "python",
   "pygments_lexer": "ipython3",
   "version": "3.11.3"
  }
 },
 "nbformat": 4,
 "nbformat_minor": 5
}
